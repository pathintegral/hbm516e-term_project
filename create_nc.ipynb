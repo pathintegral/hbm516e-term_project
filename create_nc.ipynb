{
 "cells": [
  {
   "cell_type": "code",
   "execution_count": null,
   "metadata": {
    "collapsed": true
   },
   "outputs": [],
   "source": [
    "import numpy as np\n",
    "import netCDF4 as nc\n",
    "import time, os\n",
    "from glob import glob"
   ]
  },
  {
   "cell_type": "code",
   "execution_count": null,
   "metadata": {
    "collapsed": true
   },
   "outputs": [],
   "source": [
    "def prepare_nc(input_path, output_path):\n",
    "    \"\"\"\n",
    "    Takes ResNet-50 network predictions as input, \n",
    "    produces netCDF4 file with a given output path and name.\n",
    "    \"\"\"\n",
    "    \n",
    "    # Open data and specify output netCDF4 file.\n",
    "    raw_data = np.load(input_path)\n",
    "    for c in xrange(raw_data.shape[2]):\n",
    "        chan = raw_data[:, :, c].copy()\n",
    "        min_chan = np.min(chan)\n",
    "        chan = chan - min_chan\n",
    "        max_chan = np.max(chan)\n",
    "        chan = chan / max_chan\n",
    "        raw_data[:, :, c] = chan\n",
    "    \n",
    "    dataset = nc.Dataset(output_path, 'w')\n",
    "    \n",
    "    # Create dimensions.\n",
    "    lat = dataset.createDimension('lat', raw_data.shape[0])\n",
    "    lon = dataset.createDimension('lon', raw_data.shape[1])\n",
    "    level = dataset.createDimension('level', raw_data.shape[2])\n",
    "    \n",
    "    # Create variables.\n",
    "    lats = dataset.createVariable('lat', np.float32, ('lat',)) \n",
    "    lons = dataset.createVariable('lon', np.float32, ('lon',)) \n",
    "    levels = dataset.createVariable('level', np.float32, ('level',))\n",
    "    \n",
    "    # Create 3D data.\n",
    "    temp = dataset.createVariable('temp', np.float32, ('lat','lon','level'))\n",
    "    dataset.description = 'ResNet-50 predictions dataset'\n",
    "    dataset.history = 'Created ' + time.ctime(time.time())\n",
    "    dataset.source = 'ResNet-50, Microsoft'\n",
    "    \n",
    "    # Assigning data.\n",
    "    lats[:] = np.arange(raw_data.shape[0] - 1, -1, -1)\n",
    "    lons[:] = np.arange(raw_data.shape[1] - 1, -1, -1)\n",
    "    levels[:] = np.arange(0, raw_data.shape[2],1)\n",
    "    temp[:] = raw_data\n",
    "    \n",
    "    # Close dataset and save it to netCDF4 file.\n",
    "    dataset.close()\n",
    "\n",
    "    "
   ]
  },
  {
   "cell_type": "code",
   "execution_count": null,
   "metadata": {
    "collapsed": false
   },
   "outputs": [],
   "source": [
    "raw_datas = glob('./outputs-resized-single-filter/*/*/data.npy')\n",
    "try:\n",
    "    os.mkdir(\"netcdf\")\n",
    "except:\n",
    "    pass\n",
    "\n",
    "for raw_data in raw_datas:\n",
    "    input_path = raw_data\n",
    "    label = raw_data.split(\"/\")[-3]\n",
    "    img_name = raw_data.split(\"/\")[-2]\n",
    "    \n",
    "    try:\n",
    "        os.mkdir(\"netcdf/{}\".format(label))\n",
    "    except:\n",
    "        pass\n",
    "    try:\n",
    "        os.mkdir(\"netcdf/{}/{}\".format(label, img_name))\n",
    "    except:\n",
    "        pass\n",
    "    \n",
    "    output_path = \"netcdf/{}/{}/dataset.nc\".format(label, img_name)\n",
    "        \n",
    "    prepare_nc(input_path, output_path)"
   ]
  },
  {
   "cell_type": "code",
   "execution_count": null,
   "metadata": {
    "collapsed": true
   },
   "outputs": [],
   "source": []
  }
 ],
 "metadata": {
  "kernelspec": {
   "display_name": "Python 2",
   "language": "python",
   "name": "python2"
  },
  "language_info": {
   "codemirror_mode": {
    "name": "ipython",
    "version": 2
   },
   "file_extension": ".py",
   "mimetype": "text/x-python",
   "name": "python",
   "nbconvert_exporter": "python",
   "pygments_lexer": "ipython2",
   "version": "2.7.12"
  }
 },
 "nbformat": 4,
 "nbformat_minor": 2
}
